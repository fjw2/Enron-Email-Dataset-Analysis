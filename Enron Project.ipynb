{
 "cells": [
  {
   "cell_type": "markdown",
   "metadata": {},
   "source": [
    "# Identify Fraud form Enron Email\n",
    "\n",
    "### Overview\n",
    "\n",
    "In 2000, Enron was one of the largest companies in the United States. By 2002, it had collapsed into bankruptcy due to widespread corporate fraud. In the resulting Federal investigation, a significant amount of typically confidential information entered into the public record, including tens of thousands of emails and detailed financial data for top executives. \n",
    "\n",
    "This project will analyze the dataset provided and create an algorithm to identify potential employees that may have committed fraud during the scandal.\n",
    "\n",
    "-----------------------------------------------------------------------------------------------------\n",
    "\n",
    "### Importing Libraries and Dataset"
   ]
  },
  {
   "cell_type": "code",
   "execution_count": 32,
   "metadata": {},
   "outputs": [],
   "source": [
    "import sys\n",
    "import pickle\n",
    "import pandas as pd\n",
    "import numpy as np\n",
    "from pprint import pprint \n",
    "import matplotlib.pyplot as plt\n",
    "sys.path.append(\"../tools/\")\n",
    "from feature_format import featureFormat, targetFeatureSplit\n",
    "\n",
    "with open(\"final_project_dataset.pkl\", \"r\") as data_file:\n",
    "    data_dict = pickle.load(data_file)\n",
    "\n",
    "df = pd.DataFrame.from_dict(data_dict, orient='index')  #creating dataframe from dict\n"
   ]
  },
  {
   "cell_type": "markdown",
   "metadata": {},
   "source": [
    "Now that we've imported our dataset, we want to explore the data and answer a few questions.\n",
    "\n",
    "### Number of Entries"
   ]
  },
  {
   "cell_type": "code",
   "execution_count": 33,
   "metadata": {},
   "outputs": [
    {
     "name": "stdout",
     "output_type": "stream",
     "text": [
      "There are 146 people in the dataset.\n"
     ]
    }
   ],
   "source": [
    "print \"There are\", len(data_dict), \"people in the dataset.\""
   ]
  },
  {
   "cell_type": "markdown",
   "metadata": {},
   "source": [
    "### List of Names\n",
    "\n",
    "To get a better visual of only the names included in the dataset, I ordered the keys in alphabetical order, based on last name.  "
   ]
  },
  {
   "cell_type": "code",
   "execution_count": 34,
   "metadata": {},
   "outputs": [
    {
     "name": "stdout",
     "output_type": "stream",
     "text": [
      "['ALLEN PHILLIP K',\n",
      " 'BAXTER JOHN C',\n",
      " 'BLACHMAN JEREMY M',\n",
      " 'BELFER ROBERT',\n",
      " 'BERGSIEKER RICHARD P',\n",
      " 'BIBI PHILIPPE A',\n",
      " 'BECK SALLY W',\n",
      " 'BERBERIAN DAVID',\n",
      " 'BANNANTINE JAMES M',\n",
      " 'BUTTS ROBERT H',\n",
      " 'BOWEN JR RAYMOND M',\n",
      " 'BAZELIDES PHILIP J',\n",
      " 'BELDEN TIMOTHY N',\n",
      " 'BLAKE JR. NORMAN P',\n",
      " 'BROWN MICHAEL',\n",
      " 'BADUM JAMES P',\n",
      " 'BHATNAGAR SANJAY',\n",
      " 'BUCHANAN HAROLD G',\n",
      " 'BAY FRANKLIN R',\n",
      " 'BUY RICHARD B',\n",
      " 'CORDES WILLIAM R',\n",
      " 'COLWELL WESLEY',\n",
      " 'CHAN RONNIE',\n",
      " 'CLINE KENNETH W',\n",
      " 'CUMBERLAND MICHAEL S',\n",
      " 'CALGER CHRISTOPHER F',\n",
      " 'COX DAVID',\n",
      " 'CHRISTODOULOU DIOMEDES',\n",
      " 'CARTER REBECCA C',\n",
      " 'CAUSEY RICHARD A',\n",
      " 'DETMERING TIMOTHY J',\n",
      " 'DUNCAN JOHN H',\n",
      " 'DEFFNER JOSEPH M',\n",
      " 'DELAINEY DAVID W',\n",
      " 'DURAN WILLIAM D',\n",
      " 'DIMICHELE RICHARD G',\n",
      " 'DODSON KEITH',\n",
      " 'DIETRICH JANET R',\n",
      " 'DERRICK JR. JAMES V',\n",
      " 'DONAHUE JR JEFFREY M',\n",
      " 'ELLIOTT STEVEN',\n",
      " 'ECHOLS JOHN B',\n",
      " 'FITZGERALD JAY L',\n",
      " 'FASTOW ANDREW S',\n",
      " 'FOY JOE',\n",
      " 'FOWLER PEGGY',\n",
      " 'FREVERT MARK A',\n",
      " 'FUGH JOHN L',\n",
      " 'FALLON JAMES B',\n",
      " 'GIBBS DANA R',\n",
      " 'GOLD JOSEPH',\n",
      " 'GAHN ROBERT S',\n",
      " 'GATHMANN WILLIAM D',\n",
      " 'GILLIS JOHN',\n",
      " 'GRAY RODNEY',\n",
      " 'GARLAND C KEVIN',\n",
      " 'GRAMM WENDY L',\n",
      " 'GLISAN JR BEN F',\n",
      " 'HANNON KEVIN P',\n",
      " 'HORTON STANLEY C',\n",
      " 'HUMPHREY GENE E',\n",
      " 'HAUG DAVID L',\n",
      " 'HICKERSON GARY J',\n",
      " 'HAYES ROBERT E',\n",
      " 'HERMANN ROBERT J',\n",
      " 'HAEDICKE MARK E',\n",
      " 'HUGHES JAMES A',\n",
      " 'HIRKO JOSEPH',\n",
      " 'HAYSLETT RODERICK J',\n",
      " 'IZZO LAWRENCE L',\n",
      " 'JACKSON CHARLENE R',\n",
      " 'JAEDICKE ROBERT',\n",
      " 'KITCHEN LOUISE',\n",
      " 'KOPPER MICHAEL J',\n",
      " 'KISHKILL JOSEPH G',\n",
      " 'KAMINSKI WINCENTY J',\n",
      " 'KEAN STEVEN J',\n",
      " 'KOENIG MARK E',\n",
      " 'LOWRY CHARLES P',\n",
      " 'LEWIS RICHARD',\n",
      " 'LEFF DANIEL P',\n",
      " 'LAVORATO JOHN J',\n",
      " 'LEMAISTRE CHARLES',\n",
      " 'LINDHOLM TOD A',\n",
      " 'LAY KENNETH L',\n",
      " 'LOCKHART EUGENE E',\n",
      " 'METTS MARK',\n",
      " 'MORDAUNT KRISTINA M',\n",
      " 'MEYER ROCKFORD G',\n",
      " 'MCMAHON JEFFREY',\n",
      " 'MULLER MARK S',\n",
      " 'MENDELSOHN JOHN',\n",
      " 'MCCARTY DANNY J',\n",
      " 'MCCONNELL MICHAEL S',\n",
      " 'MEYER JEROME J',\n",
      " 'MCDONALD REBECCA',\n",
      " 'MCCLELLAN GEORGE',\n",
      " 'MORAN MICHAEL P',\n",
      " 'MURRAY JULIA H',\n",
      " 'MARTIN AMANDA K',\n",
      " 'NOLES JAMES L',\n",
      " 'OLSON CINDY K',\n",
      " 'OVERDYKE JR JERE C',\n",
      " 'PIPER GREGORY F',\n",
      " 'POWERS WILLIAM',\n",
      " 'PIRO JIM',\n",
      " 'PEREIRA PAULO V. FERRAZ',\n",
      " 'PRENTICE JAMES',\n",
      " 'PICKERING MARK R',\n",
      " 'PAI LOU L',\n",
      " 'RIEKER PAULA H',\n",
      " 'REDMOND BRIAN L',\n",
      " 'RICE KENNETH D',\n",
      " 'REYNOLDS LAWRENCE',\n",
      " 'SUNDE MARTIN',\n",
      " 'SHANKMAN JEFFREY A',\n",
      " 'SHAPIRO RICHARD S',\n",
      " 'SHERRIFF JOHN R',\n",
      " 'SHELBY REX',\n",
      " 'SULLIVAN-SHAKLOVITZ COLLEEN',\n",
      " 'SCRIMSHAW MATTHEW',\n",
      " 'STABLER FRANK',\n",
      " 'SKILLING JEFFREY K',\n",
      " 'SHERRICK JEFFREY B',\n",
      " 'SHARP VICTORIA T',\n",
      " 'SAVAGE FRANK',\n",
      " 'THORN TERENCE H',\n",
      " 'THE TRAVEL AGENCY IN THE PARK',\n",
      " 'TOTAL',\n",
      " 'TILNEY ELIZABETH A',\n",
      " 'TAYLOR MITCHELL S',\n",
      " 'UMANOFF ADAM S',\n",
      " 'URQUHART JOHN A',\n",
      " 'WESTFAHL RICHARD K',\n",
      " 'WALTERS GARETH W',\n",
      " 'WALLS JR ROBERT H',\n",
      " 'WODRASKA JOHN',\n",
      " 'WHALEY DAVID A',\n",
      " 'WAKEHAM JOHN',\n",
      " 'WHALLEY LAWRENCE G',\n",
      " 'WROBEL BRUCE',\n",
      " 'WASAFF GEORGE',\n",
      " 'WHITE JR THOMAS E',\n",
      " 'WINOKUR JR. HERBERT S',\n",
      " 'YEAP SOON',\n",
      " 'YEAGER F SCOTT']\n"
     ]
    }
   ],
   "source": [
    "pprint(sorted(data_dict.keys(), key=lambda x: x[0]))"
   ]
  },
  {
   "cell_type": "markdown",
   "metadata": {},
   "source": [
    "### Number of Features \n",
    "\n",
    "To find the number of features in our dataset, I will be using one of the people and populating their features.  Phillip K. Allen is the first name in the sorted list of keys, so we will use him."
   ]
  },
  {
   "cell_type": "code",
   "execution_count": 35,
   "metadata": {},
   "outputs": [
    {
     "name": "stdout",
     "output_type": "stream",
     "text": [
      "{'bonus': 4175000,\n",
      " 'deferral_payments': 2869717,\n",
      " 'deferred_income': -3081055,\n",
      " 'director_fees': 'NaN',\n",
      " 'email_address': 'phillip.allen@enron.com',\n",
      " 'exercised_stock_options': 1729541,\n",
      " 'expenses': 13868,\n",
      " 'from_messages': 2195,\n",
      " 'from_poi_to_this_person': 47,\n",
      " 'from_this_person_to_poi': 65,\n",
      " 'loan_advances': 'NaN',\n",
      " 'long_term_incentive': 304805,\n",
      " 'other': 152,\n",
      " 'poi': False,\n",
      " 'restricted_stock': 126027,\n",
      " 'restricted_stock_deferred': -126027,\n",
      " 'salary': 201955,\n",
      " 'shared_receipt_with_poi': 1407,\n",
      " 'to_messages': 2902,\n",
      " 'total_payments': 4484442,\n",
      " 'total_stock_value': 1729541}\n"
     ]
    }
   ],
   "source": [
    "pprint(data_dict['ALLEN PHILLIP K'])"
   ]
  },
  {
   "cell_type": "code",
   "execution_count": 36,
   "metadata": {},
   "outputs": [
    {
     "name": "stdout",
     "output_type": "stream",
     "text": [
      "There are 21 features in the dataset.\n"
     ]
    }
   ],
   "source": [
    "print \"There are\", len(data_dict['ALLEN PHILLIP K'].keys()), \"features in the dataset.\""
   ]
  },
  {
   "cell_type": "markdown",
   "metadata": {},
   "source": [
    "### Finding Missing Values\n",
    "\n"
   ]
  },
  {
   "cell_type": "code",
   "execution_count": 37,
   "metadata": {},
   "outputs": [
    {
     "name": "stdout",
     "output_type": "stream",
     "text": [
      "salary                        51\n",
      "to_messages                   60\n",
      "deferral_payments            107\n",
      "total_payments                21\n",
      "exercised_stock_options       44\n",
      "bonus                         64\n",
      "restricted_stock              36\n",
      "shared_receipt_with_poi       60\n",
      "restricted_stock_deferred    128\n",
      "total_stock_value             20\n",
      "expenses                      51\n",
      "loan_advances                142\n",
      "from_messages                 60\n",
      "other                         53\n",
      "from_this_person_to_poi       60\n",
      "poi                            0\n",
      "director_fees                129\n",
      "deferred_income               97\n",
      "long_term_incentive           80\n",
      "email_address                 35\n",
      "from_poi_to_this_person       60\n",
      "dtype: int64\n"
     ]
    }
   ],
   "source": [
    "df = df.replace('NaN', np.nan)\n",
    "print df.isnull().sum()"
   ]
  },
  {
   "cell_type": "markdown",
   "metadata": {},
   "source": [
    "It looks like there are a lot of NaN values in our dataset.  This doesn't mean that everyone with a missing value should be removed because they can still hold valuable information that will help us later."
   ]
  },
  {
   "cell_type": "markdown",
   "metadata": {},
   "source": [
    "### Discovering Outliers in the Financial Data\n",
    "\n",
    "While doing a quick scan of the names list, I noticed two abnormalities, \"TOTAL\" and \"THE TRAVEL AGENCY IN THE PARK\".  \"THE TRAVEL AGENCY IN THE PARK\" is not a name and looks to be an entry that was put into the wrong dataset, so this one will be removed from the dictionary.  "
   ]
  },
  {
   "cell_type": "code",
   "execution_count": 38,
   "metadata": {},
   "outputs": [
    {
     "data": {
      "text/plain": [
       "{'bonus': 'NaN',\n",
       " 'deferral_payments': 'NaN',\n",
       " 'deferred_income': 'NaN',\n",
       " 'director_fees': 'NaN',\n",
       " 'email_address': 'NaN',\n",
       " 'exercised_stock_options': 'NaN',\n",
       " 'expenses': 'NaN',\n",
       " 'from_messages': 'NaN',\n",
       " 'from_poi_to_this_person': 'NaN',\n",
       " 'from_this_person_to_poi': 'NaN',\n",
       " 'loan_advances': 'NaN',\n",
       " 'long_term_incentive': 'NaN',\n",
       " 'other': 362096,\n",
       " 'poi': False,\n",
       " 'restricted_stock': 'NaN',\n",
       " 'restricted_stock_deferred': 'NaN',\n",
       " 'salary': 'NaN',\n",
       " 'shared_receipt_with_poi': 'NaN',\n",
       " 'to_messages': 'NaN',\n",
       " 'total_payments': 362096,\n",
       " 'total_stock_value': 'NaN'}"
      ]
     },
     "execution_count": 38,
     "metadata": {},
     "output_type": "execute_result"
    }
   ],
   "source": [
    "data_dict.pop('THE TRAVEL AGENCY IN THE PARK')"
   ]
  },
  {
   "cell_type": "markdown",
   "metadata": {},
   "source": [
    "\n",
    "'TOTAL' on the other hand could potentially have some important data for us so we can plot some features using a scatterplot.  Since a bonus is generally associated with salary and are sources of financial data, we can plot these two features to give us a visual representation.\n",
    "\n",
    "I will be using the dataframe created from the original dataset."
   ]
  },
  {
   "cell_type": "code",
   "execution_count": 39,
   "metadata": {},
   "outputs": [
    {
     "data": {
      "image/png": "[encoded data removed]",
      "text/plain": [
       "<Figure size 1152x576 with 1 Axes>"
      ]
     },
     "metadata": {
      "needs_background": "light"
     },
     "output_type": "display_data"
    }
   ],
   "source": [
    "plt.figure(figsize = (16, 8))\n",
    "#Giving labels for title, x, and y then changing their font size\n",
    "plt.title('Enron Salary and Bonus Correlation', fontsize = 15)\n",
    "plt.xlabel('Salary', fontsize = 10)\n",
    "plt.ylabel('Bonus', fontsize = 10)\n",
    "\n",
    "#plotting the dataframe\n",
    "plt.scatter(df.salary, df.bonus)\n",
    "plt.show()"
   ]
  },
  {
   "cell_type": "markdown",
   "metadata": {},
   "source": [
    "By looking at the graph, there is an obvious outlier in the data.  The values for the outlier are much, much higher than every other point in the dataframe.  This is making me wonder if this could be the 'TOTAL' key from the dictionary, since total is defined as the sum or whole amount of something, and it was already a questionable key.  Let's look into this by viewing the person with the maximum salary in our data."
   ]
  },
  {
   "cell_type": "code",
   "execution_count": 40,
   "metadata": {},
   "outputs": [
    {
     "data": {
      "text/plain": [
       "'TOTAL'"
      ]
     },
     "execution_count": 40,
     "metadata": {},
     "output_type": "execute_result"
    }
   ],
   "source": [
    "df['salary'].idxmax() # highest salary"
   ]
  },
  {
   "cell_type": "markdown",
   "metadata": {},
   "source": [
    "TOTAL is the outlier.  It is by far the highest salary and will be removed from our dictionary."
   ]
  },
  {
   "cell_type": "code",
   "execution_count": 41,
   "metadata": {},
   "outputs": [
    {
     "data": {
      "text/plain": [
       "{'bonus': 97343619,\n",
       " 'deferral_payments': 32083396,\n",
       " 'deferred_income': -27992891,\n",
       " 'director_fees': 1398517,\n",
       " 'email_address': 'NaN',\n",
       " 'exercised_stock_options': 311764000,\n",
       " 'expenses': 5235198,\n",
       " 'from_messages': 'NaN',\n",
       " 'from_poi_to_this_person': 'NaN',\n",
       " 'from_this_person_to_poi': 'NaN',\n",
       " 'loan_advances': 83925000,\n",
       " 'long_term_incentive': 48521928,\n",
       " 'other': 42667589,\n",
       " 'poi': False,\n",
       " 'restricted_stock': 130322299,\n",
       " 'restricted_stock_deferred': -7576788,\n",
       " 'salary': 26704229,\n",
       " 'shared_receipt_with_poi': 'NaN',\n",
       " 'to_messages': 'NaN',\n",
       " 'total_payments': 309886585,\n",
       " 'total_stock_value': 434509511}"
      ]
     },
     "execution_count": 41,
     "metadata": {},
     "output_type": "execute_result"
    }
   ],
   "source": [
    "data_dict.pop('TOTAL')"
   ]
  },
  {
   "cell_type": "markdown",
   "metadata": {},
   "source": [
    "To ensure our outlier has been removed, let's replot the same graph.  First, we need to update our dataframe to make sure the removed values from the dictionary carry over."
   ]
  },
  {
   "cell_type": "code",
   "execution_count": 42,
   "metadata": {},
   "outputs": [
    {
     "data": {
      "image/png": "[encoded data removed]",
      "text/plain": [
       "<Figure size 1152x576 with 1 Axes>"
      ]
     },
     "metadata": {
      "needs_background": "light"
     },
     "output_type": "display_data"
    }
   ],
   "source": [
    "updated_df = pd.DataFrame.from_dict(data_dict, orient='index')\n",
    "\n",
    "plt.figure(figsize = (16, 8))\n",
    "#Giving labels for title, x, and y then changing their font size\n",
    "plt.title('Enron Salary and Bonus Correlation', fontsize = 15)\n",
    "plt.xlabel('Salary(USD)', fontsize = 10)\n",
    "plt.ylabel('Bonus(USD)', fontsize = 10)\n",
    "\n",
    "#plotting the dataframe\n",
    "plt.scatter(updated_df.salary, updated_df.bonus)\n",
    "plt.show()"
   ]
  },
  {
   "cell_type": "markdown",
   "metadata": {},
   "source": [
    "After updating our dataframe with the new dictionary, our dataset looks to be much cleaner. Our x and y axis has scaled down to accompany the remaining values and is much easier to comprehend.  We can see that there are now about four new outliers that popped up.  \n",
    "\n",
    "One of the outliers has a bonus that is 8 million and their salary is under 600,000 so that is very questionable.  The other three outliers appear to have a much higher salary(over 1 million) than all the other points, so we can look into these."
   ]
  },
  {
   "cell_type": "code",
   "execution_count": 43,
   "metadata": {},
   "outputs": [
    {
     "name": "stdout",
     "output_type": "stream",
     "text": [
      "LAVORATO JOHN J\n",
      "8000000\n"
     ]
    }
   ],
   "source": [
    "for i in data_dict: # keys/persons\n",
    "    bonus_amount = data_dict[i]['bonus']  \n",
    "    if bonus_amount >= 7500000 and bonus_amount != 'NaN':      \n",
    "        print i\n",
    "        print data_dict[i]['bonus']\n"
   ]
  },
  {
   "cell_type": "markdown",
   "metadata": {},
   "source": [
    "Our extreme bonus to salary ratio belongs to John J. Lavorato.  Now let's see who the other three outliers are with their +1mil salary."
   ]
  },
  {
   "cell_type": "code",
   "execution_count": 44,
   "metadata": {},
   "outputs": [
    {
     "name": "stdout",
     "output_type": "stream",
     "text": [
      "LAY KENNETH L\n",
      "1072321\n",
      "SKILLING JEFFREY K\n",
      "1111258\n",
      "FREVERT MARK A\n",
      "1060932\n"
     ]
    }
   ],
   "source": [
    "for i in data_dict:\n",
    "    big_salary = data_dict[i]['salary']  \n",
    "    if big_salary >= 1000000 and big_salary != 'NaN':      \n",
    "        print i\n",
    "        print data_dict[i]['salary']"
   ]
  },
  {
   "cell_type": "markdown",
   "metadata": {},
   "source": [
    "It looks like we found our other three outliers. Even though they aren't similar to the other keys from the dicitonary, we want to keep these for our study.  They could be ones who played a major role in the whole Enron scandal."
   ]
  },
  {
   "cell_type": "markdown",
   "metadata": {},
   "source": [
    "### Number of POI (Persons of Interest)\n",
    "\n",
    "One of the features of each person determines whether or not they are a POI. Let's find how many there are."
   ]
  },
  {
   "cell_type": "code",
   "execution_count": 45,
   "metadata": {},
   "outputs": [
    {
     "name": "stdout",
     "output_type": "stream",
     "text": [
      "There are 18 POI and 126 non POI in the dataset.\n"
     ]
    }
   ],
   "source": [
    "poi_count = 0\n",
    "non_poi_count = 0\n",
    "for i in data_dict:\n",
    "    if data_dict[i]['poi'] == True:\n",
    "        poi_count += 1\n",
    "    elif data_dict[i]['poi'] == False:\n",
    "        non_poi_count +=1\n",
    "print \"There are \" + str(poi_count) + \" POI and \" + str(non_poi_count) + \" non POI in the dataset.\"\n"
   ]
  },
  {
   "cell_type": "markdown",
   "metadata": {},
   "source": [
    "We removed 'TOTAL' and 'THE TRAVEL AGENCY IN THE PARK' from the original dataset so our updated total number of people is 144 instead of 146. Let's see the percentage of POI."
   ]
  },
  {
   "cell_type": "code",
   "execution_count": 46,
   "metadata": {},
   "outputs": [
    {
     "name": "stdout",
     "output_type": "stream",
     "text": [
      "0.14\n"
     ]
    }
   ],
   "source": [
    "print round(float(poi_count)/float(non_poi_count), 2) # round to two decimal places"
   ]
  },
  {
   "cell_type": "markdown",
   "metadata": {},
   "source": [
    "In our data, about **14%** of people are marked as POI, leaving around **86%** as non POI. "
   ]
  },
  {
   "cell_type": "markdown",
   "metadata": {},
   "source": [
    "### Feature Selection\n",
    "\n",
    "There are a total of 21 features in our dataset.  Some are going to be more important than others, so for this section we will explore what we have, what features we could potentially create, and which ones we could classify as most important for our study."
   ]
  },
  {
   "cell_type": "markdown",
   "metadata": {},
   "source": [
    "#### Exploring a Couple Features"
   ]
  },
  {
   "cell_type": "markdown",
   "metadata": {},
   "source": [
    "I want to look at how POI and non POI emails are distributed. I have a feeling that we would see higher activity around the POI due to how much fraud they committed during the scandal and find other potential POIs due to higher email activity communicating to current POI, so it would make sense to me that features around this could help us in our upcoming tests. We will plot the features **'from_poi_to_this_person'** and **'from_this_person_to_poi'** to see if there is any pattern in the data.\n",
    "\n"
   ]
  },
  {
   "cell_type": "code",
   "execution_count": 47,
   "metadata": {},
   "outputs": [
    {
     "data": {
      "image/png": "[encoded data removed]",
      "text/plain": [
       "<Figure size 1152x576 with 1 Axes>"
      ]
     },
     "metadata": {
      "needs_background": "light"
     },
     "output_type": "display_data"
    }
   ],
   "source": [
    "updated_df = pd.DataFrame.from_dict(data_dict, orient='index') # updated dataframe from dictionary with removed outliers\n",
    "\n",
    "plt.figure(figsize = (16, 8))\n",
    "#Giving labels for title, x, and y then changing their font size\n",
    "plt.title('Email Comparison Between POI and This Person', fontsize = 15)\n",
    "plt.xlabel('Emails From POI to This Person', fontsize = 10) # blue\n",
    "plt.ylabel('Emails from This Person to POI', fontsize = 10) # red\n",
    "\n",
    "#plotting the dataframe\n",
    "plt.scatter(updated_df.from_poi_to_this_person, updated_df.from_this_person_to_poi, c =['blue','red'])\n",
    "plt.show()"
   ]
  },
  {
   "cell_type": "markdown",
   "metadata": {},
   "source": [
    "This scatter is displaying a comparison of POI vs Non POI email activity.  It shows us that there isnt much of a pattern that separates them from one another, so these aren't very helpful.  Let's try one more possibility of a better pattern.  We can see what fraction of emails are from this person to a POI and a fraction of emails from a POI to this person.   This would make us two new features to add to our list. If we find a strong enough pattern to aid in our testing, we will keep them.\n",
    "\n",
    "\n",
    "#### Creating New Features"
   ]
  },
  {
   "cell_type": "code",
   "execution_count": 48,
   "metadata": {},
   "outputs": [],
   "source": [
    "def fraction_of_emails( sent_messages, total_messages ): #function to divide and find fraction\n",
    "\n",
    "    fraction = 0\n",
    "    if sent_messages == \"NaN\":  # change NaN to 0 for fraction function to work properly\n",
    "        sent_messages = 0 \n",
    "    if total_messages == \"NaN\":\n",
    "        return 0\n",
    "    fraction = float(sent_messages)/float(total_messages)\n",
    "\n",
    "\n",
    "    return fraction\n",
    "\n",
    "\n",
    " \n",
    "\n",
    "new_dict = {} # create dictionary to hold values\n",
    "for name in data_dict: # each person in dictionary, add to dict\n",
    "\n",
    "    enron_persons = data_dict[name] # enron_persons = names of the people\n",
    "    \n",
    "    poi_to_person = enron_persons[\"from_poi_to_this_person\"] # representing feature\n",
    "    to_messages = enron_persons[\"to_messages\"] # representing feature\n",
    "    \n",
    "    fraction_from_poi = fraction_of_emails(poi_to_person, to_messages) # fraction of poi to person message / to messages\n",
    "    \n",
    "    enron_persons[\"fraction_from_poi\"] = fraction_from_poi\n",
    "  \n",
    "    person_to_poi = enron_persons[\"from_this_person_to_poi\"] # representing feature of person in dictionary\n",
    "    from_messages = enron_persons[\"from_messages\"]\n",
    "    fraction_to_poi = fraction_of_emails(person_to_poi, from_messages) # fraction of person to poi / from messages\n",
    "   \n",
    "    new_dict[name]={\"from_poi_to_this_person\":fraction_from_poi,\n",
    "                       \"from_this_person_to_poi\":fraction_to_poi}\n",
    "    \n",
    "    enron_persons[\"fraction_to_poi\"] = fraction_to_poi\n",
    "\n",
    "################################################################################################################################\n",
    "### Store to my_dataset for easy export below.\n",
    "my_dataset = data_dict\n",
    "\n"
   ]
  },
  {
   "cell_type": "markdown",
   "metadata": {},
   "source": [
    "#### Plotting New Features\n",
    "\n",
    "Now that we've created our two new features, let's view them on a scatterplot."
   ]
  },
  {
   "cell_type": "code",
   "execution_count": 49,
   "metadata": {},
   "outputs": [
    {
     "data": {
      "image/png": "[encoded data removed]",
      "text/plain": [
       "<Figure size 1152x576 with 1 Axes>"
      ]
     },
     "metadata": {
      "needs_background": "light"
     },
     "output_type": "display_data"
    }
   ],
   "source": [
    "plot_list = ['poi','fraction_from_poi','fraction_to_poi'] # features used for scatter\n",
    "scatter_data = featureFormat(data_dict, plot_list)\n",
    "\n",
    "\n",
    "plt.figure(figsize = (16, 8))\n",
    "\n",
    "for i in scatter_data: # features list\n",
    "    from_poi = i[1] # 2nd feature in list, 0 based\n",
    "    to_poi = i[2] # 3rd feature in list, 0 based\n",
    "    if i[0]== True: # if POI\n",
    "        plt.scatter(from_poi,to_poi,color ='red') # POI = red\n",
    "    else:\n",
    "        plt.scatter(from_poi,to_poi, color ='blue') \n",
    "\n",
    "#Giving labels for title, x, and y then changing their font size\n",
    "plt.title('Comparing Fraction of Emails To and From POI', fontsize = 15)\n",
    "plt.xlabel('Fraction From POI')\n",
    "plt.ylabel('Fraction To POI')\n",
    "plt.show()"
   ]
  },
  {
   "cell_type": "markdown",
   "metadata": {},
   "source": [
    "Using fractions to compare emails being sent really helped display our data more clearly.  POI(red) are more visually separated from non POI(blue).  This could mean our new features will be used in our algorithm testing."
   ]
  },
  {
   "cell_type": "markdown",
   "metadata": {},
   "source": [
    "#### Univariate Features\n",
    "\n",
    "Now that we have created two new features for our list, it's time to univariate and find out which features will be the best to use for our upcoming testing, and if these two new features are important enough to stay. \n",
    "\n",
    "##### Quoting from Lesson 12: Feature Selection\n",
    ">There are two big univariate feature selection tools in sklearn: SelectPercentile and SelectKBest. The difference is pretty apparent by the names: SelectPercentile selects the X% of features that are most powerful (where X is a parameter) and SelectKBest selects the K features that are most powerful (where K is a parameter).\n",
    "\n",
    "I want to use **SelectKBest** to find out the best features to use because our dictionary seems small enough to not have to find the percentage of powerful features.  I believe that SelectPercentile would be more suited for data with hundreds of features so it can narrow them down to a managable chunk.   \n",
    "\n",
    "This will return "
   ]
  },
  {
   "cell_type": "code",
   "execution_count": 50,
   "metadata": {},
   "outputs": [
    {
     "name": "stdout",
     "output_type": "stream",
     "text": [
      "[18.28968404  0.22461127  8.77277773  7.18405566 20.79225205  0.06549965\n",
      " 11.45847658 24.18289868  6.09417331 24.81507973  4.18747751  9.92218601\n",
      "  9.21281062  2.1263278   1.64634113  5.24344971  0.16970095  2.38261211\n",
      "  8.58942073  3.12809175 16.40971255]\n"
     ]
    }
   ],
   "source": [
    "from sklearn.feature_selection import SelectKBest\n",
    "\n",
    "# full list of features\n",
    "features_list =  ['poi','salary', 'deferral_payments', 'total_payments', 'loan_advances',\n",
    "                  'bonus', 'restricted_stock_deferred', 'deferred_income',\n",
    "                  'total_stock_value', 'expenses', 'exercised_stock_options',\n",
    "                  'other', 'long_term_incentive', 'restricted_stock', 'director_fees',\n",
    "                  'to_messages', 'from_poi_to_this_person','from_messages',\n",
    "                  'from_this_person_to_poi', 'shared_receipt_with_poi', 'fraction_from_poi', 'fraction_to_poi'\n",
    "                 ]\n",
    "### Store to my_dataset for easy export below.\n",
    "my_dataset = data_dict\n",
    "\n",
    "### Extract features and labels from dataset for local testing\n",
    "data = featureFormat(my_dataset, features_list, sort_keys = True)\n",
    "labels, features = targetFeatureSplit(data)\n",
    "\n",
    "\n",
    "f_score = SelectKBest(k = 'all').fit(features, labels) # return all feature scores\n",
    "print f_score.scores_\n",
    "\n",
    "\n",
    "\n"
   ]
  },
  {
   "cell_type": "markdown",
   "metadata": {},
   "source": [
    "Based on the F1 scores, our top 5 features  in the dataset are:"
   ]
  },
  {
   "cell_type": "markdown",
   "metadata": {},
   "source": [
    "> 'loan_advances'\n",
    "\n",
    "> 'restricted_stock_deferred'\n",
    "\n",
    "> 'deferred_income'\n",
    "\n",
    "> 'expenses'\n",
    "\n",
    "> 'fraction_to_poi'\n",
    "\n",
    "To finalize our selection of features used, I want to manually create a few sets of features and compare the results of each to see which set performs best through Decision Tree. These will be run in our tester.py file. Our first set will be the top 5 scores.\n",
    "\n",
    "First, I want to see how our created feature (fraction_to_poi) changes our scores if it is removed from our first list.  I also want to see if the amount of features affects our results.\n",
    "\n"
   ]
  },
  {
   "cell_type": "code",
   "execution_count": 51,
   "metadata": {},
   "outputs": [],
   "source": [
    "#features_list0 = ['loan_advances', 'restricted_stock_deferred', 'deferred_income', 'expenses']\n",
    "#features_list1 = ['loan_advances', 'restricted_stock_deferred', 'deferred_income', 'expenses', 'fraction_to_poi']\n",
    "#features_list2 = ['loan_advances', 'restricted_stock_deferred', 'deferred_income', 'expenses', 'fraction_to_poi', 'long_term_incentive']\n",
    "#features_list3 = ['loan_advances', 'restricted_stock_deferred', 'deferred_income', 'expenses', 'fraction_to_poi', 'deferral_payments']\n"
   ]
  },
  {
   "cell_type": "markdown",
   "metadata": {},
   "source": [
    "**features_list0 results**: Accuracy: 0.81583       Precision: 0.22222      Recall: 0.04200 F1: 0.07065\n",
    "\n",
    "**features_list1 results**: Accuracy: 0.80923       Precision: 0.37915      Recall: 0.37650 F1: 0.37782\n",
    "\n",
    "**features_list2 results**: Accuracy: 0.82477       Precision: 0.42872      Recall: 0.41800 F1: 0.42329\n",
    "\n",
    "**features_list3 results**: Accuracy: 0.81957       Precision: 0.35906      Recall: 0.33500 F1: 0.34661\n",
    "\n",
    "When excluding our created feature 'fraction_to_poi, our results were very lacking.  Our recall score was extremely low and F1 also very low.  We added the feature back in the list and it gave us much better results.\n",
    "\n",
    "However, based on our approach, features_list2 returned the highest scores. It included a total of six features as compared to four or five.  We will be using this as our list for testing."
   ]
  },
  {
   "cell_type": "code",
   "execution_count": 52,
   "metadata": {},
   "outputs": [],
   "source": [
    "features_list = ['poi', 'loan_advances', 'restricted_stock_deferred', 'deferred_income', 'expenses', 'fraction_to_poi', 'long_term_incentive']### Extract features and labels from dataset for local testing\n",
    "data = featureFormat(my_dataset, features_list, sort_keys = True)\n",
    "labels, features = targetFeatureSplit(data)"
   ]
  },
  {
   "cell_type": "markdown",
   "metadata": {},
   "source": [
    "### Using Classifiers With Feature List\n",
    "\n",
    "Now it's time to run our final features list through a few algorithms using  the test_classifier function in tester.py and see which one will give us the best scores.\n",
    "\n",
    "We want **Precision** and **Recall** to be over a .3 score.\n"
   ]
  },
  {
   "cell_type": "code",
   "execution_count": 53,
   "metadata": {},
   "outputs": [],
   "source": [
    "# used for testing each algorithm\n",
    "from sklearn.tree import DecisionTreeClassifier \n",
    "from sklearn.naive_bayes import GaussianNB \n",
    "from sklearn.ensemble import RandomForestClassifier \n",
    "from sklearn.model_selection import train_test_split\n",
    "\n",
    "features_train, features_test, labels_train, labels_test = \\\n",
    "    train_test_split(features, labels, test_size=0.3, random_state=42)"
   ]
  },
  {
   "cell_type": "markdown",
   "metadata": {},
   "source": [
    "#### Decision Tree Results\n",
    "\n",
    "Accuracy: 0.82815       Precision: 0.43944      Recall: 0.42450  F1: 0.43184 "
   ]
  },
  {
   "cell_type": "markdown",
   "metadata": {},
   "source": [
    "#### Naive Bayes Results\n",
    "\n",
    "Accuracy: 0.41392       Precision: 0.18591      Recall: 0.83150  F1: 0.30388"
   ]
  },
  {
   "cell_type": "markdown",
   "metadata": {},
   "source": [
    "#### Random Forest Results\n",
    "\n",
    "Accuracy: 0.82692       Precision: 0.34453      Recall: 0.13850  F1: 0.19757\n",
    "\n",
    "Based on our classifier tests, Decision Tree provided us with higher all around scores.  Naive Bayes had an abysmally low accuracy score so it was kicked to the curb.  Random Forest had a similar accuracy to Decision Tree but Decision Tree had the upper advantage with all scores.\n",
    "\n",
    "Decision Tree will be our Algorithm of choice."
   ]
  },
  {
   "cell_type": "markdown",
   "metadata": {},
   "source": [
    "### Algorithm Tuning\n",
    "\n",
    "Before we finalize our algorithm, let's tune some parameters to try and achieve better scores.  The default parameters will be run through our test.py file to perform validation, and the tuned parameters will also be run through our data.py file for validation using ***StratifiedShuffleSplit***.  We will compare our findings."
   ]
  },
  {
   "cell_type": "markdown",
   "metadata": {},
   "source": [
    "#### Decision Tree Parameters"
   ]
  },
  {
   "cell_type": "markdown",
   "metadata": {},
   "source": [
    "For our research, we will be using GridSearchCV to find the best combination of tuning for these parameters:\n",
    "\n",
    ">'min_samples_leaf'\n",
    "\n",
    ">'min_samples_split'\n",
    "\n"
   ]
  },
  {
   "cell_type": "code",
   "execution_count": 54,
   "metadata": {},
   "outputs": [
    {
     "name": "stdout",
     "output_type": "stream",
     "text": [
      "Best parameters for Decision Tree are: {'min_samples_split': 3, 'min_samples_leaf': 11}\n"
     ]
    },
    {
     "name": "stderr",
     "output_type": "stream",
     "text": [
      "C:\\ProgramData\\Anaconda2\\lib\\site-packages\\sklearn\\model_selection\\_search.py:841: DeprecationWarning: The default of the `iid` parameter will change from True to False in version 0.22 and will be removed in 0.24. This will change numeric results when test-set sizes are unequal.\n",
      "  DeprecationWarning)\n"
     ]
    }
   ],
   "source": [
    "from sklearn.model_selection import GridSearchCV\n",
    "\n",
    "param_tuning = {\n",
    "    'min_samples_leaf': [1, 3, 5, 7, 9, 11],\n",
    "    'min_samples_split': [3, 5, 7, 9, 11, 13]\n",
    "}\n",
    "\n",
    "clf = GridSearchCV(DecisionTreeClassifier(), param_tuning)\n",
    "clf = clf.fit(features_train, labels_train)\n",
    "\n",
    "\n",
    "print \"Best parameters for Decision Tree are:\", clf.best_params_\n"
   ]
  },
  {
   "cell_type": "markdown",
   "metadata": {},
   "source": [
    "When using our **tuned parameters** and running Decision Tree again, our results were:\n",
    "\n",
    "Accuracy: 0.84508       Precision: 0.49562      Recall: 0.39600  F1: 0.44024\n",
    "\n",
    "Compared to our **default parameters**:\n",
    "\n",
    "Accuracy: 0.82815       Precision: 0.43944      Recall: 0.42450  F1: 0.43184 \n",
    "\n",
    "Our tuned features increased all of our scores, giving us better results."
   ]
  },
  {
   "cell_type": "markdown",
   "metadata": {},
   "source": [
    "# Summarizing Markdown From the Project and Answering Questions\n",
    "\n",
    "Most of the questions below were answered in the markdown throughout the notebook, but I will be reflecting back on what was said and condense it in this section below.\n",
    "\n",
    "### Summarize for us the goal of this project and how machine learning is useful in trying to accomplish it. As part of your answer, give some background on the dataset and how it can be used to answer the project question. Were there any outliers in the data when you got it, and how did you handle those?  [relevant rubric items: “data exploration”, “outlier investigation”]\n",
    "\n",
    "The goal of this project was to find potential POI in the Enron dataset provided.  In 2000, Enron was one of the largest companies in the United States and by 2002, it had collapsed into bankruptcy due to widespread corporate fraud. Thousands of emails involved in the scandal were released to the public along with the people who sent them.  Our dataset included 146 people with a small amount (18) listed as POI. 21 features described each person and those features were what we explored throughout the project.\n",
    "\n",
    "Machine learning was very useful and played a major role in our end goal because it utilized the amount of data we were given.  It aided in our search to find any additional people that weren't originally flagged as a POI but were suspicious enough to have potentially played a bigger role in the scandal.\n",
    "\n",
    "There were a couple outliers that were identified during our exploration.   \"TOTAL\" and \"THE TRAVEL AGENCY IN THE PARK\" were removed from our dataset because it was revealed that \"TOTAL\" was actually the total sum of each feature column for everyone in the dataset. \"THE TRAVEL AGENCY IN THE PARK\" was removed because this 'person' was not actually a person and wasn't going to  contribute to our focus of the people involved at Enron.\n",
    "\n",
    "### What features did you end up using in your POI identifier, and what selection process did you use to pick them? Did you have to do any scaling? Why or why not? As part of the assignment, you should attempt to engineer your own feature that does not come ready-made in the dataset -- explain what feature you tried to make, and the rationale behind it. (You do not necessarily have to use it in the final analysis, only engineer and test it.) In your feature selection step, if you used an algorithm like a decision tree, please also give the feature importances of the features that you use, and if you used an automated feature selection function like SelectKBest, please report the feature scores and reasons for your choice of parameter values.  [relevant rubric items: “create new features”, “intelligently select features”, “properly scale features”]\n",
    "\n",
    "The features were 'loan_advances','restricted_stock_deferred','deferred_income', 'expenses','fraction_to_poi', and 'long_term_incentive'. These were some of the highest scored by SelectKBest. It selects the K features that are most powerful (where K is a parameter) and would be the best at determing whether or not a person could identify as POI.\n",
    "\n",
    ">**Features that are selected are reported and the number of features selected is justified.**\n",
    "\n",
    "This features list was selected by hand after different combinations of features were tested, and the performance was documented for each one.  The amount of features was also taken into consideration when testing, and it looked like having a total of 6 features provided the best results, versus only having 5.\n",
    "\n",
    "```python\n",
    "#features_list0 = ['loan_advances', 'restricted_stock_deferred', 'deferred_income', 'expenses']\n",
    "#features_list1 = ['loan_advances', 'restricted_stock_deferred', 'deferred_income', 'expenses', 'fraction_to_poi']\n",
    "#features_list2 = ['loan_advances', 'restricted_stock_deferred', 'deferred_income', 'expenses', 'fraction_to_poi', 'long_term_incentive']\n",
    "#features_list3 = ['loan_advances', 'restricted_stock_deferred', 'deferred_income', 'expenses', 'fraction_to_poi', 'deferral_payments']\n",
    "```\n",
    "**features_list0 results**: Accuracy: 0.81583       Precision: 0.22222      Recall: 0.04200 F1: 0.07065\n",
    "\n",
    "**features_list1 results**: Accuracy: 0.80923       Precision: 0.37915      Recall: 0.37650 F1: 0.37782\n",
    "\n",
    "**features_list2 results**: Accuracy: 0.82477       Precision: 0.42872      Recall: 0.41800 F1: 0.42329\n",
    "\n",
    "**features_list3 results**: Accuracy: 0.81957       Precision: 0.35906      Recall: 0.33500 F1: 0.34661\n",
    "        \n",
    ">**If algorithm calls for scaled features, feature scaling is deployed.**\n",
    "\n",
    "I did not have to do any scaling because it is not necessary to perform in decision trees, as it is unaffected by scaling of any kind.\n",
    "\n",
    "Two new features were created during the analysis, 'fraction_from_poi' and 'fraction_to_poi'.  They were created due to the amount of emails being sent to and from people/POI and wanting to narrow down the actual ratio of emails being sent to important people(POI) as well as the ratio of emails being sent from POI. That way our scope was narrowed down a little more to focus on POI.  We didn't need to know how many emails were being sent to and from non POI.\n",
    "\n",
    "\n",
    "\n",
    ">**At least one new feature is implemented. Justification for that feature is provided in the written response.**\n",
    "\n",
    "**Removing new feature(features_list0)**: Accuracy: 0.81583       Precision: 0.22222      Recall: 0.04200  F1: 0.07065\n",
    "\n",
    "**Adding new feature(features_list1)**: Accuracy: 0.80923       Precision: 0.37915      Recall: 0.37650  F1: 0.37782\n",
    "\n",
    "After initially running our list of features without 'fraction_to_poi', our results were very poor, resulting in much lower scores.  When I added the created feature back to our list, or scores became much better and already reached our task of > .3 precision and recall score.\n",
    "\n",
    "\n",
    "\n",
    "### What algorithm did you end up using? What other one(s) did you try? How did model performance differ between algorithms?  [relevant rubric item: “pick an algorithm”]\n",
    "\n",
    "The algorithm I ended up using was Decision Tree.  I analyzed three:  **Decision Tree, Naive Bayes, and Random Forest**.  Decision Tree had an all around better average score.  Accuracy was lacking but I want to contribute that to the ratio of POI to non POI being heavily weighed. In our data, about 14% of people are marked as POI, leaving around 86% as non POI.\n",
    "\n",
    "### What does it mean to tune the parameters of an algorithm, and what can happen if you don’t do this well?  How did you tune the parameters of your particular algorithm? What parameters did you tune? (Some algorithms do not have parameters that you need to tune -- if this is the case for the one you picked, identify and briefly explain how you would have done it for the model that was not your final choice or a different model that does utilize parameter tuning, e.g. a decision tree classifier).  [relevant rubric items: “discuss parameter tuning”, “tune the algorithm”]\n",
    "\n",
    "Parameter tuning helps an algorithm return the highest evaluation scores.  If this isn't done well, the outcome of the algorithm can not maximize its power and give you results that are lackluster for your analysis.  For Decision Tree, I tuned **'min_samples_leaf' and 'min_samples_split'**.  As quoted from Scikit Learn, 'min_samples_leaf' is the minimum number of samples required to be at a leaf node.  'min_samples_split' is the minimum number of samples needed to be considered a leaf node.  Tuning both of these provided a large boost in precision, accuracy, and recall as well as F1 score.\n",
    "\n",
    "\n",
    "\n",
    "### What is validation, and what’s a classic mistake you can make if you do it wrong? How did you validate your analysis?  [relevant rubric items: “discuss validation”, “validation strategy”]\n",
    "\n",
    "Validation of data is the process that ensures that the model used is performing correctly and consistently with any dataset it may use.  For example, for this project our data was split into unique sets for training and validation purposes.  Incorrectly validating data can result in 'overfitting' or 'underfitting'.  Overfitting is caused by the model performing great on the training data but not the validation data.  Underfitting is quite the opposite and performs poorly on training data.  \n",
    "\n",
    "I validated the analysis for this project by using the classifier function in the tester.py file.  This function utilizes a module called 'StratifiedShuffleSplit', which creates the unqiue training/validation sets and then outputs the model scores. This returns stratified randomized folds, or essentially sets of data made by preserving the percentage of samples for each class. This validation process is ideal for the smaller Enron dataset.  \n",
    "\n",
    "### Give at least 2 evaluation metrics and your average performance for each of them.  Explain an interpretation of your metrics that says something human-understandable about your algorithm’s performance. [relevant rubric item: “usage of evaluation metrics”]\n",
    "\n",
    "The two metrics that were the main focus for this project were **'recall' and 'precision'**.  Accuracy and F1 scores were also looked at. According to Scikit Learn:\n",
    "\n",
    "**Precision** is defined as the number of true positives over the number of true positives plus the number of false positives.\n",
    "\n",
    "**Recall**  is defined as the number of true positives over the number of true positives plus the number of false negatives.\n",
    "\n",
    "These quantities are also related to the **F1 score**, which is defined as the harmonic mean of precision and recall.\n",
    "\n",
    "When using our **tuned parameters** and running Decision Tree again, our results were:\n",
    "\n",
    "Accuracy: 0.84508       Precision: 0.49562      Recall: 0.39600  F1: 0.44024\n",
    "\n",
    "We can look at our Accuracy as 84.5%, meaning how accurate our predictions were on the total test data.\n",
    "Precision means that 49.5%% of the people labeled as 'POI' are actually a POI in the dataset.\n",
    "Recall means that 39.6% of the people labeled as POI in the dataset will be correctly classified as a POI by the algorithm.\n",
    "Finally, F1 basically represents how accurate the testing was.  \n",
    "\n",
    "The overall results of the analysis were fair, considering that our ratio of POI to non POI was heavily one sided.\n",
    "\n",
    "\n",
    "\n",
    "### References\n",
    "\n",
    "##### Github\n",
    "https://github.com/andrewsanmartin\n",
    "\n",
    "https://github.com/ketanpandey01\n",
    "\n",
    "##### Other Websites\n",
    "https://scikit-learn.org \n",
    "\n",
    "https://towardsdatascience.com/hyperparameter-tuning-the-random-forest-in-python-using-scikit-learn-28d2aa77dd74\n",
    "\n"
   ]
  }
 ],
 "metadata": {
  "kernelspec": {
   "display_name": "Python 2",
   "language": "python",
   "name": "python2"
  },
  "language_info": {
   "codemirror_mode": {
    "name": "ipython",
    "version": 2
   },
   "file_extension": ".py",
   "mimetype": "text/x-python",
   "name": "python",
   "nbconvert_exporter": "python",
   "pygments_lexer": "ipython2",
   "version": "2.7.16"
  }
 },
 "nbformat": 4,
 "nbformat_minor": 2
}
